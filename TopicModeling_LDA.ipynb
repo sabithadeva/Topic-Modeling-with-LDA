{
  "nbformat": 4,
  "nbformat_minor": 0,
  "metadata": {
    "colab": {
      "provenance": []
    },
    "kernelspec": {
      "name": "python3",
      "display_name": "Python 3"
    },
    "language_info": {
      "name": "python"
    }
  },
  "cells": [
    {
      "cell_type": "code",
      "execution_count": null,
      "metadata": {
        "colab": {
          "base_uri": "https://localhost:8080/",
          "height": 73
        },
        "id": "SuZIRiqOgmCj",
        "outputId": "1aee410f-844e-4e6c-d9bd-a564e0db5721"
      },
      "outputs": [
        {
          "output_type": "display_data",
          "data": {
            "text/plain": [
              "<IPython.core.display.HTML object>"
            ],
            "text/html": [
              "\n",
              "     <input type=\"file\" id=\"files-db018f15-a58a-4285-a5c7-35058213fbe8\" name=\"files[]\" multiple disabled\n",
              "        style=\"border:none\" />\n",
              "     <output id=\"result-db018f15-a58a-4285-a5c7-35058213fbe8\">\n",
              "      Upload widget is only available when the cell has been executed in the\n",
              "      current browser session. Please rerun this cell to enable.\n",
              "      </output>\n",
              "      <script>// Copyright 2017 Google LLC\n",
              "//\n",
              "// Licensed under the Apache License, Version 2.0 (the \"License\");\n",
              "// you may not use this file except in compliance with the License.\n",
              "// You may obtain a copy of the License at\n",
              "//\n",
              "//      http://www.apache.org/licenses/LICENSE-2.0\n",
              "//\n",
              "// Unless required by applicable law or agreed to in writing, software\n",
              "// distributed under the License is distributed on an \"AS IS\" BASIS,\n",
              "// WITHOUT WARRANTIES OR CONDITIONS OF ANY KIND, either express or implied.\n",
              "// See the License for the specific language governing permissions and\n",
              "// limitations under the License.\n",
              "\n",
              "/**\n",
              " * @fileoverview Helpers for google.colab Python module.\n",
              " */\n",
              "(function(scope) {\n",
              "function span(text, styleAttributes = {}) {\n",
              "  const element = document.createElement('span');\n",
              "  element.textContent = text;\n",
              "  for (const key of Object.keys(styleAttributes)) {\n",
              "    element.style[key] = styleAttributes[key];\n",
              "  }\n",
              "  return element;\n",
              "}\n",
              "\n",
              "// Max number of bytes which will be uploaded at a time.\n",
              "const MAX_PAYLOAD_SIZE = 100 * 1024;\n",
              "\n",
              "function _uploadFiles(inputId, outputId) {\n",
              "  const steps = uploadFilesStep(inputId, outputId);\n",
              "  const outputElement = document.getElementById(outputId);\n",
              "  // Cache steps on the outputElement to make it available for the next call\n",
              "  // to uploadFilesContinue from Python.\n",
              "  outputElement.steps = steps;\n",
              "\n",
              "  return _uploadFilesContinue(outputId);\n",
              "}\n",
              "\n",
              "// This is roughly an async generator (not supported in the browser yet),\n",
              "// where there are multiple asynchronous steps and the Python side is going\n",
              "// to poll for completion of each step.\n",
              "// This uses a Promise to block the python side on completion of each step,\n",
              "// then passes the result of the previous step as the input to the next step.\n",
              "function _uploadFilesContinue(outputId) {\n",
              "  const outputElement = document.getElementById(outputId);\n",
              "  const steps = outputElement.steps;\n",
              "\n",
              "  const next = steps.next(outputElement.lastPromiseValue);\n",
              "  return Promise.resolve(next.value.promise).then((value) => {\n",
              "    // Cache the last promise value to make it available to the next\n",
              "    // step of the generator.\n",
              "    outputElement.lastPromiseValue = value;\n",
              "    return next.value.response;\n",
              "  });\n",
              "}\n",
              "\n",
              "/**\n",
              " * Generator function which is called between each async step of the upload\n",
              " * process.\n",
              " * @param {string} inputId Element ID of the input file picker element.\n",
              " * @param {string} outputId Element ID of the output display.\n",
              " * @return {!Iterable<!Object>} Iterable of next steps.\n",
              " */\n",
              "function* uploadFilesStep(inputId, outputId) {\n",
              "  const inputElement = document.getElementById(inputId);\n",
              "  inputElement.disabled = false;\n",
              "\n",
              "  const outputElement = document.getElementById(outputId);\n",
              "  outputElement.innerHTML = '';\n",
              "\n",
              "  const pickedPromise = new Promise((resolve) => {\n",
              "    inputElement.addEventListener('change', (e) => {\n",
              "      resolve(e.target.files);\n",
              "    });\n",
              "  });\n",
              "\n",
              "  const cancel = document.createElement('button');\n",
              "  inputElement.parentElement.appendChild(cancel);\n",
              "  cancel.textContent = 'Cancel upload';\n",
              "  const cancelPromise = new Promise((resolve) => {\n",
              "    cancel.onclick = () => {\n",
              "      resolve(null);\n",
              "    };\n",
              "  });\n",
              "\n",
              "  // Wait for the user to pick the files.\n",
              "  const files = yield {\n",
              "    promise: Promise.race([pickedPromise, cancelPromise]),\n",
              "    response: {\n",
              "      action: 'starting',\n",
              "    }\n",
              "  };\n",
              "\n",
              "  cancel.remove();\n",
              "\n",
              "  // Disable the input element since further picks are not allowed.\n",
              "  inputElement.disabled = true;\n",
              "\n",
              "  if (!files) {\n",
              "    return {\n",
              "      response: {\n",
              "        action: 'complete',\n",
              "      }\n",
              "    };\n",
              "  }\n",
              "\n",
              "  for (const file of files) {\n",
              "    const li = document.createElement('li');\n",
              "    li.append(span(file.name, {fontWeight: 'bold'}));\n",
              "    li.append(span(\n",
              "        `(${file.type || 'n/a'}) - ${file.size} bytes, ` +\n",
              "        `last modified: ${\n",
              "            file.lastModifiedDate ? file.lastModifiedDate.toLocaleDateString() :\n",
              "                                    'n/a'} - `));\n",
              "    const percent = span('0% done');\n",
              "    li.appendChild(percent);\n",
              "\n",
              "    outputElement.appendChild(li);\n",
              "\n",
              "    const fileDataPromise = new Promise((resolve) => {\n",
              "      const reader = new FileReader();\n",
              "      reader.onload = (e) => {\n",
              "        resolve(e.target.result);\n",
              "      };\n",
              "      reader.readAsArrayBuffer(file);\n",
              "    });\n",
              "    // Wait for the data to be ready.\n",
              "    let fileData = yield {\n",
              "      promise: fileDataPromise,\n",
              "      response: {\n",
              "        action: 'continue',\n",
              "      }\n",
              "    };\n",
              "\n",
              "    // Use a chunked sending to avoid message size limits. See b/62115660.\n",
              "    let position = 0;\n",
              "    do {\n",
              "      const length = Math.min(fileData.byteLength - position, MAX_PAYLOAD_SIZE);\n",
              "      const chunk = new Uint8Array(fileData, position, length);\n",
              "      position += length;\n",
              "\n",
              "      const base64 = btoa(String.fromCharCode.apply(null, chunk));\n",
              "      yield {\n",
              "        response: {\n",
              "          action: 'append',\n",
              "          file: file.name,\n",
              "          data: base64,\n",
              "        },\n",
              "      };\n",
              "\n",
              "      let percentDone = fileData.byteLength === 0 ?\n",
              "          100 :\n",
              "          Math.round((position / fileData.byteLength) * 100);\n",
              "      percent.textContent = `${percentDone}% done`;\n",
              "\n",
              "    } while (position < fileData.byteLength);\n",
              "  }\n",
              "\n",
              "  // All done.\n",
              "  yield {\n",
              "    response: {\n",
              "      action: 'complete',\n",
              "    }\n",
              "  };\n",
              "}\n",
              "\n",
              "scope.google = scope.google || {};\n",
              "scope.google.colab = scope.google.colab || {};\n",
              "scope.google.colab._files = {\n",
              "  _uploadFiles,\n",
              "  _uploadFilesContinue,\n",
              "};\n",
              "})(self);\n",
              "</script> "
            ]
          },
          "metadata": {}
        },
        {
          "output_type": "stream",
          "name": "stdout",
          "text": [
            "Saving abcnews-date-text.csv to abcnews-date-text.csv\n"
          ]
        }
      ],
      "source": [
        "from google.colab import files\n",
        "\n",
        "uploaded = files.upload()"
      ]
    },
    {
      "cell_type": "code",
      "source": [
        "import pandas as pd\n",
        "data = pd.read_csv('abcnews-date-text.csv', error_bad_lines=False);\n",
        "print(data)"
      ],
      "metadata": {
        "colab": {
          "base_uri": "https://localhost:8080/"
        },
        "id": "Jj4vgV9MjaYG",
        "outputId": "c9857b15-3cd8-4414-ec6a-8aa8a52c6e97"
      },
      "execution_count": null,
      "outputs": [
        {
          "output_type": "stream",
          "name": "stderr",
          "text": [
            "<ipython-input-6-bd024a9bc065>:2: FutureWarning: The error_bad_lines argument has been deprecated and will be removed in a future version. Use on_bad_lines in the future.\n",
            "\n",
            "\n",
            "  data = pd.read_csv('abcnews-date-text.csv', error_bad_lines=False);\n"
          ]
        },
        {
          "output_type": "stream",
          "name": "stdout",
          "text": [
            "         publish_date                                      headline_text\n",
            "0            20030219  aba decides against community broadcasting lic...\n",
            "1            20030219     act fire witnesses must be aware of defamation\n",
            "2            20030219     a g calls for infrastructure protection summit\n",
            "3            20030219           air nz staff in aust strike for pay rise\n",
            "4            20030219      air nz strike to affect australian travellers\n",
            "...               ...                                                ...\n",
            "1244179      20211231  two aged care residents die as state records 2...\n",
            "1244180      20211231  victoria records 5;919 new cases and seven deaths\n",
            "1244181      20211231    wa delays adopting new close contact definition\n",
            "1244182      20211231  western ringtail possums found badly dehydrate...\n",
            "1244183      20211231  what makes you a close covid contact here are ...\n",
            "\n",
            "[1244184 rows x 2 columns]\n"
          ]
        }
      ]
    },
    {
      "cell_type": "code",
      "source": [
        "data_text = data[['headline_text']]\n",
        "data_text['index'] = data_text.index\n",
        "documents = data_text\n",
        "print(documents)"
      ],
      "metadata": {
        "colab": {
          "base_uri": "https://localhost:8080/"
        },
        "id": "U_TMnPWUjyU-",
        "outputId": "32169f4b-0ef6-47fb-b5f7-2633d6449e87"
      },
      "execution_count": null,
      "outputs": [
        {
          "output_type": "stream",
          "name": "stdout",
          "text": [
            "                                             headline_text    index\n",
            "0        aba decides against community broadcasting lic...        0\n",
            "1           act fire witnesses must be aware of defamation        1\n",
            "2           a g calls for infrastructure protection summit        2\n",
            "3                 air nz staff in aust strike for pay rise        3\n",
            "4            air nz strike to affect australian travellers        4\n",
            "...                                                    ...      ...\n",
            "1244179  two aged care residents die as state records 2...  1244179\n",
            "1244180  victoria records 5;919 new cases and seven deaths  1244180\n",
            "1244181    wa delays adopting new close contact definition  1244181\n",
            "1244182  western ringtail possums found badly dehydrate...  1244182\n",
            "1244183  what makes you a close covid contact here are ...  1244183\n",
            "\n",
            "[1244184 rows x 2 columns]\n"
          ]
        }
      ]
    },
    {
      "cell_type": "code",
      "source": [
        "print(len(documents))\n",
        "print(documents[:5])"
      ],
      "metadata": {
        "colab": {
          "base_uri": "https://localhost:8080/"
        },
        "id": "1-3kf9fWj45F",
        "outputId": "d5886199-f488-4b5b-d81a-7e045816537e"
      },
      "execution_count": null,
      "outputs": [
        {
          "output_type": "stream",
          "name": "stdout",
          "text": [
            "1244184\n",
            "                                       headline_text  index\n",
            "0  aba decides against community broadcasting lic...      0\n",
            "1     act fire witnesses must be aware of defamation      1\n",
            "2     a g calls for infrastructure protection summit      2\n",
            "3           air nz staff in aust strike for pay rise      3\n",
            "4      air nz strike to affect australian travellers      4\n"
          ]
        }
      ]
    },
    {
      "cell_type": "code",
      "source": [
        "import gensim\n",
        "from gensim.utils import simple_preprocess\n",
        "from gensim.parsing.preprocessing import STOPWORDS\n",
        "from nltk.stem import WordNetLemmatizer, SnowballStemmer\n",
        "from nltk.stem.porter import *\n",
        "import numpy as np\n",
        "np.random.seed(2018)\n",
        "import nltk\n",
        "nltk.download('wordnet')"
      ],
      "metadata": {
        "colab": {
          "base_uri": "https://localhost:8080/"
        },
        "id": "iebpexisj_NQ",
        "outputId": "61ab896b-7e4d-4aa3-cd1c-1a0872b522df"
      },
      "execution_count": null,
      "outputs": [
        {
          "output_type": "stream",
          "name": "stderr",
          "text": [
            "[nltk_data] Downloading package wordnet to /root/nltk_data...\n"
          ]
        },
        {
          "output_type": "execute_result",
          "data": {
            "text/plain": [
              "True"
            ]
          },
          "metadata": {},
          "execution_count": 9
        }
      ]
    },
    {
      "cell_type": "code",
      "source": [
        "stemmer = SnowballStemmer('english')\n",
        "def lemmatize_stemming(text):\n",
        "    return stemmer.stem(WordNetLemmatizer().lemmatize(text, pos='v'))\n",
        "def preprocess(text):\n",
        "    result = []\n",
        "    for token in gensim.utils.simple_preprocess(text):\n",
        "        if token not in gensim.parsing.preprocessing.STOPWORDS and len(token) > 3:\n",
        "            result.append(lemmatize_stemming(token))\n",
        "    return result"
      ],
      "metadata": {
        "id": "GAE3xr9CkHlc"
      },
      "execution_count": null,
      "outputs": []
    },
    {
      "cell_type": "code",
      "source": [
        "doc_sample = documents[documents['index'] == 4310].values[0][0]\n",
        "print('original document: ')\n",
        "words = []\n",
        "for word in doc_sample.split(' '):\n",
        "    words.append(word)\n",
        "print(words)\n",
        "print('\\n\\n tokenized and lemmatized document: ')\n",
        "print(preprocess(doc_sample))"
      ],
      "metadata": {
        "colab": {
          "base_uri": "https://localhost:8080/"
        },
        "id": "OvM0_ICBkUSu",
        "outputId": "79d471a5-3bc9-4daf-c413-aec80f5357e6"
      },
      "execution_count": null,
      "outputs": [
        {
          "output_type": "stream",
          "name": "stdout",
          "text": [
            "original document: \n",
            "['ratepayers', 'group', 'wants', 'compulsory', 'local', 'govt', 'voting']\n",
            "\n",
            "\n",
            " tokenized and lemmatized document: \n",
            "['ratepay', 'group', 'want', 'compulsori', 'local', 'govt', 'vote']\n"
          ]
        }
      ]
    },
    {
      "cell_type": "code",
      "source": [
        "processed_docs = documents['headline_text'].map(preprocess)\n",
        "processed_docs[:10]"
      ],
      "metadata": {
        "colab": {
          "base_uri": "https://localhost:8080/"
        },
        "id": "bbDfpqmklJTH",
        "outputId": "9caef8ae-646e-4775-d03e-89cfa9114715"
      },
      "execution_count": null,
      "outputs": [
        {
          "output_type": "execute_result",
          "data": {
            "text/plain": [
              "0            [decid, communiti, broadcast, licenc]\n",
              "1                               [wit, awar, defam]\n",
              "2           [call, infrastructur, protect, summit]\n",
              "3                      [staff, aust, strike, rise]\n",
              "4             [strike, affect, australian, travel]\n",
              "5               [ambiti, olsson, win, tripl, jump]\n",
              "6           [antic, delight, record, break, barca]\n",
              "7    [aussi, qualifi, stosur, wast, memphi, match]\n",
              "8            [aust, address, secur, council, iraq]\n",
              "9                         [australia, lock, timet]\n",
              "Name: headline_text, dtype: object"
            ]
          },
          "metadata": {},
          "execution_count": 14
        }
      ]
    },
    {
      "cell_type": "code",
      "source": [
        "dictionary = gensim.corpora.Dictionary(processed_docs)\n",
        "count = 0\n",
        "for k, v in dictionary.iteritems():\n",
        "    print(k, v)\n",
        "    count += 1\n",
        "    if count > 10:\n",
        "        break"
      ],
      "metadata": {
        "colab": {
          "base_uri": "https://localhost:8080/"
        },
        "id": "IDk_z_eZlQJs",
        "outputId": "afd6e830-8e5c-4977-acdf-1faa8119dcc3"
      },
      "execution_count": null,
      "outputs": [
        {
          "output_type": "stream",
          "name": "stdout",
          "text": [
            "0 broadcast\n",
            "1 communiti\n",
            "2 decid\n",
            "3 licenc\n",
            "4 awar\n",
            "5 defam\n",
            "6 wit\n",
            "7 call\n",
            "8 infrastructur\n",
            "9 protect\n",
            "10 summit\n"
          ]
        }
      ]
    },
    {
      "cell_type": "code",
      "source": [
        "dictionary.filter_extremes(no_below=15, no_above=0.5, keep_n=100000)"
      ],
      "metadata": {
        "id": "9nAgJb_-lR5q"
      },
      "execution_count": null,
      "outputs": []
    },
    {
      "cell_type": "code",
      "source": [
        "bow_corpus = [dictionary.doc2bow(doc) for doc in processed_docs]\n",
        "bow_corpus[4310]"
      ],
      "metadata": {
        "colab": {
          "base_uri": "https://localhost:8080/"
        },
        "id": "f2FbCfLOlgsX",
        "outputId": "1f132041-22e0-4e87-b74c-a42ecf7180f5"
      },
      "execution_count": null,
      "outputs": [
        {
          "output_type": "execute_result",
          "data": {
            "text/plain": [
              "[(162, 1), (240, 1), (292, 1), (589, 1), (838, 1), (3571, 1), (3572, 1)]"
            ]
          },
          "metadata": {},
          "execution_count": 17
        }
      ]
    },
    {
      "cell_type": "code",
      "source": [
        "from gensim import corpora, models\n",
        "tfidf = models.TfidfModel(bow_corpus)\n",
        "corpus_tfidf = tfidf[bow_corpus]\n",
        "from pprint import pprint\n",
        "for doc in corpus_tfidf:\n",
        "    pprint(doc)\n",
        "    break"
      ],
      "metadata": {
        "colab": {
          "base_uri": "https://localhost:8080/"
        },
        "id": "11h_tcGWllq8",
        "outputId": "35203601-703d-40be-bd10-791453c99ce4"
      },
      "execution_count": null,
      "outputs": [
        {
          "output_type": "stream",
          "name": "stdout",
          "text": [
            "[(0, 0.5844216176085719),\n",
            " (1, 0.38716866963787633),\n",
            " (2, 0.5013820927104505),\n",
            " (3, 0.5071171375845095)]\n"
          ]
        }
      ]
    },
    {
      "cell_type": "code",
      "source": [
        "lda_model = gensim.models.LdaMulticore(bow_corpus, num_topics=10, id2word=dictionary, passes=2, workers=2)\n",
        "for idx, topic in lda_model.print_topics(-1):\n",
        "    print('Topic: {} Word: {}'.format(idx, topic))"
      ],
      "metadata": {
        "colab": {
          "base_uri": "https://localhost:8080/"
        },
        "id": "rUD2nGdhlska",
        "outputId": "eb106e74-d39e-48d8-9e87-fd292bba48b7"
      },
      "execution_count": null,
      "outputs": [
        {
          "output_type": "stream",
          "name": "stdout",
          "text": [
            "Topic: 0 Word: 0.029*\"vaccin\" + 0.018*\"health\" + 0.017*\"hospit\" + 0.016*\"scott\" + 0.015*\"farmer\" + 0.012*\"break\" + 0.011*\"show\" + 0.010*\"beach\" + 0.010*\"citi\" + 0.010*\"risk\"\n",
            "Topic: 1 Word: 0.043*\"polic\" + 0.029*\"death\" + 0.019*\"crash\" + 0.019*\"home\" + 0.018*\"die\" + 0.016*\"lockdown\" + 0.015*\"perth\" + 0.015*\"shoot\" + 0.014*\"woman\" + 0.014*\"investig\"\n",
            "Topic: 2 Word: 0.027*\"record\" + 0.024*\"test\" + 0.023*\"open\" + 0.021*\"australian\" + 0.019*\"market\" + 0.015*\"final\" + 0.013*\"year\" + 0.011*\"quarantin\" + 0.010*\"guilti\" + 0.009*\"india\"\n",
            "Topic: 3 Word: 0.031*\"elect\" + 0.018*\"say\" + 0.014*\"state\" + 0.014*\"minist\" + 0.013*\"announc\" + 0.013*\"speak\" + 0.012*\"labor\" + 0.011*\"north\" + 0.011*\"call\" + 0.011*\"feder\"\n",
            "Topic: 4 Word: 0.046*\"trump\" + 0.045*\"queensland\" + 0.025*\"donald\" + 0.018*\"canberra\" + 0.018*\"world\" + 0.015*\"time\" + 0.013*\"win\" + 0.013*\"premier\" + 0.011*\"assault\" + 0.009*\"sexual\"\n",
            "Topic: 5 Word: 0.039*\"case\" + 0.028*\"charg\" + 0.028*\"court\" + 0.023*\"news\" + 0.023*\"murder\" + 0.020*\"face\" + 0.019*\"alleg\" + 0.018*\"peopl\" + 0.015*\"trial\" + 0.015*\"morrison\"\n",
            "Topic: 6 Word: 0.032*\"melbourn\" + 0.023*\"protest\" + 0.022*\"attack\" + 0.016*\"arrest\" + 0.015*\"kill\" + 0.014*\"royal\" + 0.014*\"life\" + 0.014*\"polic\" + 0.013*\"australian\" + 0.013*\"border\"\n",
            "Topic: 7 Word: 0.034*\"govern\" + 0.023*\"live\" + 0.015*\"worker\" + 0.015*\"indigen\" + 0.014*\"communiti\" + 0.014*\"work\" + 0.012*\"care\" + 0.011*\"street\" + 0.011*\"age\" + 0.011*\"support\"\n",
            "Topic: 8 Word: 0.074*\"coronavirus\" + 0.069*\"australia\" + 0.065*\"covid\" + 0.031*\"victoria\" + 0.021*\"south\" + 0.017*\"chang\" + 0.015*\"restrict\" + 0.013*\"island\" + 0.012*\"water\" + 0.011*\"west\"\n",
            "Topic: 9 Word: 0.021*\"nation\" + 0.018*\"adelaid\" + 0.017*\"tasmania\" + 0.015*\"victorian\" + 0.013*\"hous\" + 0.013*\"region\" + 0.013*\"school\" + 0.013*\"concern\" + 0.013*\"coast\" + 0.012*\"gold\"\n"
          ]
        }
      ]
    },
    {
      "cell_type": "code",
      "source": [
        "lda_model_tfidf = gensim.models.LdaMulticore(corpus_tfidf, num_topics=10, id2word=dictionary, passes=2, workers=4)\n",
        "for idx, topic in lda_model_tfidf.print_topics(-1):\n",
        "    print('Topic: {} Word: {}'.format(idx, topic))"
      ],
      "metadata": {
        "colab": {
          "base_uri": "https://localhost:8080/"
        },
        "id": "EFQISgoCltpd",
        "outputId": "70e3fa0d-cbb3-43d5-aaba-18f90a94db49"
      },
      "execution_count": null,
      "outputs": [
        {
          "output_type": "stream",
          "name": "stdout",
          "text": [
            "Topic: 0 Word: 0.010*\"australia\" + 0.010*\"world\" + 0.010*\"final\" + 0.008*\"live\" + 0.007*\"leagu\" + 0.007*\"updat\" + 0.006*\"open\" + 0.006*\"cricket\" + 0.006*\"beat\" + 0.005*\"test\"\n",
            "Topic: 1 Word: 0.027*\"trump\" + 0.015*\"countri\" + 0.011*\"hour\" + 0.009*\"border\" + 0.009*\"andrew\" + 0.007*\"christma\" + 0.007*\"coronavirus\" + 0.007*\"protest\" + 0.007*\"kill\" + 0.005*\"china\"\n",
            "Topic: 2 Word: 0.010*\"health\" + 0.009*\"vaccin\" + 0.009*\"elect\" + 0.008*\"chang\" + 0.008*\"lockdown\" + 0.008*\"covid\" + 0.007*\"coronavirus\" + 0.007*\"say\" + 0.007*\"climat\" + 0.006*\"labor\"\n",
            "Topic: 3 Word: 0.011*\"market\" + 0.010*\"morrison\" + 0.009*\"coronavirus\" + 0.008*\"royal\" + 0.008*\"price\" + 0.008*\"share\" + 0.007*\"rise\" + 0.007*\"australian\" + 0.007*\"bank\" + 0.007*\"commiss\"\n",
            "Topic: 4 Word: 0.015*\"coronavirus\" + 0.014*\"queensland\" + 0.013*\"covid\" + 0.012*\"restrict\" + 0.008*\"stori\" + 0.008*\"drought\" + 0.007*\"australia\" + 0.007*\"farmer\" + 0.007*\"victoria\" + 0.006*\"juli\"\n",
            "Topic: 5 Word: 0.013*\"bushfir\" + 0.009*\"search\" + 0.008*\"hous\" + 0.008*\"quarantin\" + 0.008*\"pandem\" + 0.007*\"miss\" + 0.006*\"coronavirus\" + 0.006*\"rescu\" + 0.006*\"burn\" + 0.006*\"septemb\"\n",
            "Topic: 6 Word: 0.021*\"news\" + 0.016*\"rural\" + 0.013*\"drum\" + 0.011*\"govern\" + 0.009*\"friday\" + 0.009*\"monday\" + 0.009*\"age\" + 0.008*\"tuesday\" + 0.008*\"care\" + 0.008*\"wednesday\"\n",
            "Topic: 7 Word: 0.018*\"charg\" + 0.016*\"murder\" + 0.015*\"donald\" + 0.015*\"polic\" + 0.014*\"court\" + 0.012*\"alleg\" + 0.011*\"woman\" + 0.010*\"jail\" + 0.010*\"death\" + 0.009*\"sentenc\"\n",
            "Topic: 8 Word: 0.013*\"scott\" + 0.011*\"weather\" + 0.009*\"michael\" + 0.008*\"zealand\" + 0.008*\"pacif\" + 0.007*\"outback\" + 0.007*\"alan\" + 0.006*\"australia\" + 0.006*\"tree\" + 0.006*\"insid\"\n",
            "Topic: 9 Word: 0.012*\"interview\" + 0.010*\"crash\" + 0.009*\"fatal\" + 0.009*\"driver\" + 0.008*\"biden\" + 0.008*\"turnbul\" + 0.008*\"polic\" + 0.008*\"korea\" + 0.007*\"north\" + 0.007*\"truck\"\n"
          ]
        }
      ]
    },
    {
      "cell_type": "code",
      "source": [
        "for index, score in sorted(lda_model[bow_corpus[4310]], key=lambda tup: -1*tup[1]):\n",
        "    print(\"\\nScore: {}\\t \\nTopic: {}\".format(score, lda_model.print_topic(index, 10)))"
      ],
      "metadata": {
        "colab": {
          "base_uri": "https://localhost:8080/"
        },
        "id": "kwTAVzq_mBEQ",
        "outputId": "324409d7-8cd1-43b4-8f18-d08e10daa6b0"
      },
      "execution_count": null,
      "outputs": [
        {
          "output_type": "stream",
          "name": "stdout",
          "text": [
            "\n",
            "Score: 0.500542938709259\t \n",
            "Topic: 0.034*\"govern\" + 0.023*\"live\" + 0.015*\"worker\" + 0.015*\"indigen\" + 0.014*\"communiti\" + 0.014*\"work\" + 0.012*\"care\" + 0.011*\"street\" + 0.011*\"age\" + 0.011*\"support\"\n",
            "\n",
            "Score: 0.27015963196754456\t \n",
            "Topic: 0.031*\"elect\" + 0.018*\"say\" + 0.014*\"state\" + 0.014*\"minist\" + 0.013*\"announc\" + 0.013*\"speak\" + 0.012*\"labor\" + 0.011*\"north\" + 0.011*\"call\" + 0.011*\"feder\"\n",
            "\n",
            "Score: 0.14175541698932648\t \n",
            "Topic: 0.027*\"record\" + 0.024*\"test\" + 0.023*\"open\" + 0.021*\"australian\" + 0.019*\"market\" + 0.015*\"final\" + 0.013*\"year\" + 0.011*\"quarantin\" + 0.010*\"guilti\" + 0.009*\"india\"\n",
            "\n",
            "Score: 0.012507418170571327\t \n",
            "Topic: 0.021*\"nation\" + 0.018*\"adelaid\" + 0.017*\"tasmania\" + 0.015*\"victorian\" + 0.013*\"hous\" + 0.013*\"region\" + 0.013*\"school\" + 0.013*\"concern\" + 0.013*\"coast\" + 0.012*\"gold\"\n",
            "\n",
            "Score: 0.012505903840065002\t \n",
            "Topic: 0.074*\"coronavirus\" + 0.069*\"australia\" + 0.065*\"covid\" + 0.031*\"victoria\" + 0.021*\"south\" + 0.017*\"chang\" + 0.015*\"restrict\" + 0.013*\"island\" + 0.012*\"water\" + 0.011*\"west\"\n",
            "\n",
            "Score: 0.012505880557000637\t \n",
            "Topic: 0.046*\"trump\" + 0.045*\"queensland\" + 0.025*\"donald\" + 0.018*\"canberra\" + 0.018*\"world\" + 0.015*\"time\" + 0.013*\"win\" + 0.013*\"premier\" + 0.011*\"assault\" + 0.009*\"sexual\"\n",
            "\n",
            "Score: 0.012505880557000637\t \n",
            "Topic: 0.039*\"case\" + 0.028*\"charg\" + 0.028*\"court\" + 0.023*\"news\" + 0.023*\"murder\" + 0.020*\"face\" + 0.019*\"alleg\" + 0.018*\"peopl\" + 0.015*\"trial\" + 0.015*\"morrison\"\n",
            "\n",
            "Score: 0.012505844235420227\t \n",
            "Topic: 0.029*\"vaccin\" + 0.018*\"health\" + 0.017*\"hospit\" + 0.016*\"scott\" + 0.015*\"farmer\" + 0.012*\"break\" + 0.011*\"show\" + 0.010*\"beach\" + 0.010*\"citi\" + 0.010*\"risk\"\n",
            "\n",
            "Score: 0.01250554621219635\t \n",
            "Topic: 0.043*\"polic\" + 0.029*\"death\" + 0.019*\"crash\" + 0.019*\"home\" + 0.018*\"die\" + 0.016*\"lockdown\" + 0.015*\"perth\" + 0.015*\"shoot\" + 0.014*\"woman\" + 0.014*\"investig\"\n",
            "\n",
            "Score: 0.01250554621219635\t \n",
            "Topic: 0.032*\"melbourn\" + 0.023*\"protest\" + 0.022*\"attack\" + 0.016*\"arrest\" + 0.015*\"kill\" + 0.014*\"royal\" + 0.014*\"life\" + 0.014*\"polic\" + 0.013*\"australian\" + 0.013*\"border\"\n"
          ]
        }
      ]
    },
    {
      "cell_type": "code",
      "source": [
        "for index, score in sorted(lda_model_tfidf[bow_corpus[4310]], key=lambda tup: -1*tup[1]):\n",
        "    print(\"\\nScore: {}\\t \\nTopic: {}\".format(score, lda_model_tfidf.print_topic(index, 10)))"
      ],
      "metadata": {
        "colab": {
          "base_uri": "https://localhost:8080/"
        },
        "id": "wO8HzO-bmBKC",
        "outputId": "609f625c-794a-4f82-c948-15ce9430248c"
      },
      "execution_count": null,
      "outputs": [
        {
          "output_type": "stream",
          "name": "stdout",
          "text": [
            "\n",
            "Score: 0.5062361359596252\t \n",
            "Topic: 0.010*\"health\" + 0.009*\"vaccin\" + 0.009*\"elect\" + 0.008*\"chang\" + 0.008*\"lockdown\" + 0.008*\"covid\" + 0.007*\"coronavirus\" + 0.007*\"say\" + 0.007*\"climat\" + 0.006*\"labor\"\n",
            "\n",
            "Score: 0.3937304615974426\t \n",
            "Topic: 0.011*\"market\" + 0.010*\"morrison\" + 0.009*\"coronavirus\" + 0.008*\"royal\" + 0.008*\"price\" + 0.008*\"share\" + 0.007*\"rise\" + 0.007*\"australian\" + 0.007*\"bank\" + 0.007*\"commiss\"\n",
            "\n",
            "Score: 0.012504803016781807\t \n",
            "Topic: 0.021*\"news\" + 0.016*\"rural\" + 0.013*\"drum\" + 0.011*\"govern\" + 0.009*\"friday\" + 0.009*\"monday\" + 0.009*\"age\" + 0.008*\"tuesday\" + 0.008*\"care\" + 0.008*\"wednesday\"\n",
            "\n",
            "Score: 0.012504634447395802\t \n",
            "Topic: 0.015*\"coronavirus\" + 0.014*\"queensland\" + 0.013*\"covid\" + 0.012*\"restrict\" + 0.008*\"stori\" + 0.008*\"drought\" + 0.007*\"australia\" + 0.007*\"farmer\" + 0.007*\"victoria\" + 0.006*\"juli\"\n",
            "\n",
            "Score: 0.012504566460847855\t \n",
            "Topic: 0.027*\"trump\" + 0.015*\"countri\" + 0.011*\"hour\" + 0.009*\"border\" + 0.009*\"andrew\" + 0.007*\"christma\" + 0.007*\"coronavirus\" + 0.007*\"protest\" + 0.007*\"kill\" + 0.005*\"china\"\n",
            "\n",
            "Score: 0.012504027225077152\t \n",
            "Topic: 0.012*\"interview\" + 0.010*\"crash\" + 0.009*\"fatal\" + 0.009*\"driver\" + 0.008*\"biden\" + 0.008*\"turnbul\" + 0.008*\"polic\" + 0.008*\"korea\" + 0.007*\"north\" + 0.007*\"truck\"\n",
            "\n",
            "Score: 0.012503933161497116\t \n",
            "Topic: 0.013*\"bushfir\" + 0.009*\"search\" + 0.008*\"hous\" + 0.008*\"quarantin\" + 0.008*\"pandem\" + 0.007*\"miss\" + 0.006*\"coronavirus\" + 0.006*\"rescu\" + 0.006*\"burn\" + 0.006*\"septemb\"\n",
            "\n",
            "Score: 0.012503894977271557\t \n",
            "Topic: 0.013*\"scott\" + 0.011*\"weather\" + 0.009*\"michael\" + 0.008*\"zealand\" + 0.008*\"pacif\" + 0.007*\"outback\" + 0.007*\"alan\" + 0.006*\"australia\" + 0.006*\"tree\" + 0.006*\"insid\"\n",
            "\n",
            "Score: 0.01250380463898182\t \n",
            "Topic: 0.010*\"australia\" + 0.010*\"world\" + 0.010*\"final\" + 0.008*\"live\" + 0.007*\"leagu\" + 0.007*\"updat\" + 0.006*\"open\" + 0.006*\"cricket\" + 0.006*\"beat\" + 0.005*\"test\"\n",
            "\n",
            "Score: 0.012503734789788723\t \n",
            "Topic: 0.018*\"charg\" + 0.016*\"murder\" + 0.015*\"donald\" + 0.015*\"polic\" + 0.014*\"court\" + 0.012*\"alleg\" + 0.011*\"woman\" + 0.010*\"jail\" + 0.010*\"death\" + 0.009*\"sentenc\"\n"
          ]
        }
      ]
    },
    {
      "cell_type": "code",
      "source": [
        "unseen_document = 'How a Pentagon deal became an identity crisis for Google'\n",
        "bow_vector = dictionary.doc2bow(preprocess(unseen_document))\n",
        "for index, score in sorted(lda_model[bow_vector], key=lambda tup: -1*tup[1]):\n",
        "    print(\"Score: {}\\t Topic: {}\".format(score, lda_model.print_topic(index, 5)))"
      ],
      "metadata": {
        "colab": {
          "base_uri": "https://localhost:8080/"
        },
        "id": "imD5SCoamLsA",
        "outputId": "f55c3280-7008-4be3-a6b2-004873ca04a2"
      },
      "execution_count": null,
      "outputs": [
        {
          "output_type": "stream",
          "name": "stdout",
          "text": [
            "Score: 0.3500807285308838\t Topic: 0.027*\"record\" + 0.024*\"test\" + 0.023*\"open\" + 0.021*\"australian\" + 0.019*\"market\"\n",
            "Score: 0.3499029874801636\t Topic: 0.074*\"coronavirus\" + 0.069*\"australia\" + 0.065*\"covid\" + 0.031*\"victoria\" + 0.021*\"south\"\n",
            "Score: 0.1832817941904068\t Topic: 0.032*\"melbourn\" + 0.023*\"protest\" + 0.022*\"attack\" + 0.016*\"arrest\" + 0.015*\"kill\"\n",
            "Score: 0.016683083027601242\t Topic: 0.034*\"govern\" + 0.023*\"live\" + 0.015*\"worker\" + 0.015*\"indigen\" + 0.014*\"communiti\"\n",
            "Score: 0.0166788250207901\t Topic: 0.031*\"elect\" + 0.018*\"say\" + 0.014*\"state\" + 0.014*\"minist\" + 0.013*\"announc\"\n",
            "Score: 0.01667592115700245\t Topic: 0.039*\"case\" + 0.028*\"charg\" + 0.028*\"court\" + 0.023*\"news\" + 0.023*\"murder\"\n",
            "Score: 0.016674157232046127\t Topic: 0.029*\"vaccin\" + 0.018*\"health\" + 0.017*\"hospit\" + 0.016*\"scott\" + 0.015*\"farmer\"\n",
            "Score: 0.016674157232046127\t Topic: 0.043*\"polic\" + 0.029*\"death\" + 0.019*\"crash\" + 0.019*\"home\" + 0.018*\"die\"\n",
            "Score: 0.016674157232046127\t Topic: 0.046*\"trump\" + 0.045*\"queensland\" + 0.025*\"donald\" + 0.018*\"canberra\" + 0.018*\"world\"\n",
            "Score: 0.016674157232046127\t Topic: 0.021*\"nation\" + 0.018*\"adelaid\" + 0.017*\"tasmania\" + 0.015*\"victorian\" + 0.013*\"hous\"\n"
          ]
        }
      ]
    }
  ]
}